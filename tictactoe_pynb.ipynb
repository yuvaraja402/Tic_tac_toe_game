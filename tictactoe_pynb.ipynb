{
 "cells": [
  {
   "cell_type": "code",
   "execution_count": null,
   "metadata": {
    "collapsed": false
   },
   "outputs": [],
   "source": [
    "# INPUTS entered without qoutes in list\n",
    "num = input('Enter :')\n",
    "card = [int(d) for d in str(num)]\n",
    "print card\n",
    "\n",
    "sum(card)"
   ]
  },
  {
   "cell_type": "code",
   "execution_count": null,
   "metadata": {
    "collapsed": false
   },
   "outputs": [],
   "source": [
    "# INPUTS entered without qoutes in list\n",
    "#MY METHOD\n",
    "card_input = input('Enter card digit :')\n",
    "card_digits = str(card_input)\n",
    "card = []\n",
    "for i in card_digits:\n",
    "    card.append(int(i))\n",
    "card"
   ]
  },
  {
   "cell_type": "code",
   "execution_count": null,
   "metadata": {
    "collapsed": false
   },
   "outputs": [],
   "source": [
    ""
   ]
  },
  {
   "cell_type": "code",
   "execution_count": null,
   "metadata": {
    "collapsed": false
   },
   "outputs": [],
   "source": [
    "print(' X O game by Codemanga \\n')\n",
    "print('[1] | [2] | [3]')\n",
    "print('____|_____|____')\n",
    "print('    |     |   ')\n",
    "print('[4] | [5] | [6]')\n",
    "print('____|_____|____')\n",
    "print('    |     |   ')\n",
    "print('[7] | [8] | [9]')\n",
    "print('\\nlooking at the above positions,give proper inputs :) \\n')"
   ]
  },
  {
   "cell_type": "code",
   "execution_count": null,
   "metadata": {
    "collapsed": false
   },
   "outputs": [],
   "source": [
    "import random\n",
    "import numpy as np\n",
    "\n",
    "\n",
    "\n",
    "\n",
    "print('grid len',len(grid))\n",
    "print('grid type',type(grid))\n",
    "print('grid shape',np.shape(grid))\n",
    "\n",
    "def pos(position):\n",
    "    user_pos = position\n",
    "    machine_pos = random.randrange(1,10)\n",
    "    print(machine_pos)\n",
    "    # placing random number in machine position\n",
    "    if user_pos == machine_pos:\n",
    "        machine_pos = random.randrange(1,10)\n",
    "        print(machine_pos)\n",
    "        if user_pos == machine_pos:\n",
    "            machine_pos = random.randrange(1,10)\n",
    "            print(machine_pos)\n",
    "\n",
    "        \n",
    "\n",
    "user_input = int(input('Enter position:'))\n",
    "pos(user_input)"
   ]
  },
  {
   "cell_type": "code",
   "execution_count": null,
   "metadata": {
    "collapsed": false
   },
   "outputs": [],
   "source": [
    ""
   ]
  },
  {
   "cell_type": "code",
   "execution_count": null,
   "metadata": {
    "collapsed": false
   },
   "outputs": [],
   "source": [
    ""
   ]
  },
  {
   "cell_type": "code",
   "execution_count": 4,
   "metadata": {
    "collapsed": false
   },
   "outputs": [
    {
     "name": "stdout",
     "output_type": "stream",
     "text": [
      "\n",
      "X O game by Codemanga\n",
      "\n",
      "[1] | [2] | [3]\n",
      "____|_____|____\n",
      "    |     |   \n",
      "[4] | [5] | [6]\n",
      "____|_____|____\n",
      "    |     |   \n",
      "[7] | [8] | [9]\n",
      "\n",
      "looking at the positions,give proper inputs :) \n",
      "\n",
      "Enter position : 7\n",
      "Enter x or o :x\n",
      " ['o'] | []  | [] \n",
      "_______|________|______\n",
      "       |        |    \n",
      " [] | []  | [] \n",
      "_______|________|______\n",
      "       |        |    \n",
      " ['x'] | []  | []  \n",
      "\n",
      "**** DRAW ****\n",
      "\n",
      "Enter position : 5\n",
      "Enter x or o :x\n",
      " ['o'] | ['o']  | [] \n",
      "_______|________|______\n",
      "       |        |    \n",
      " [] | ['x']  | [] \n",
      "_______|________|______\n",
      "       |        |    \n",
      " ['x'] | []  | []  \n",
      "\n",
      "**** DRAW ****\n",
      "\n",
      "Enter position : 3\n",
      "Enter x or o :x\n",
      " ['o'] | ['o']  | ['x'] \n",
      "_______|________|______\n",
      "       |        |    \n",
      " ['o'] | ['x']  | [] \n",
      "_______|________|______\n",
      "       |        |    \n",
      " ['x'] | []  | []  \n",
      "\n",
      "**** DRAW ****\n",
      "\n",
      "Enter position : 9\n",
      "Enter x or o :x\n",
      " ['o'] | ['o']  | ['x'] \n",
      "_______|________|______\n",
      "       |        |    \n",
      " ['o'] | ['x']  | [] \n",
      "_______|________|______\n",
      "       |        |    \n",
      " ['x'] | []  | ['x']  \n",
      "\n",
      "**** DRAW ****\n",
      "\n",
      "Enter position : 6\n",
      "Enter x or o :x\n",
      " ['o'] | ['o']  | ['x'] \n",
      "_______|________|______\n",
      "       |        |    \n",
      " ['o'] | ['x']  | ['x'] \n",
      "_______|________|______\n",
      "       |        |    \n",
      " ['x'] | []  | ['x']  \n",
      "\n",
      "**** DRAW ****\n",
      "\n"
     ]
    }
   ],
   "source": [
    "print('\\nX O game by Codemanga\\n')\n",
    "print('[1] | [2] | [3]')\n",
    "print('____|_____|____')\n",
    "print('    |     |   ')\n",
    "print('[4] | [5] | [6]')\n",
    "print('____|_____|____')\n",
    "print('    |     |   ')\n",
    "print('[7] | [8] | [9]')\n",
    "print('\\nlooking at the positions,give proper inputs :) \\n')\n",
    "\n",
    "# creating a 3x3 list of all zeros\n",
    "list1=[],[],[]\n",
    "list2=[],[],[]\n",
    "list3=[],[],[]\n",
    "data=[list1,list2,list3]\n",
    "\n",
    "#arrangement of output with function\n",
    "def display():\n",
    "    print(' %s | %s  | %s ')%(data[0][0],data[0][1],data[0][2])\n",
    "    print('_______|________|______')\n",
    "    print('       |        |    ')\n",
    "    print(' %s | %s  | %s ')%(data[1][0],data[1][1],data[1][2])\n",
    "    print('_______|________|______')\n",
    "    print('       |        |    ')\n",
    "    print(' %s | %s  | %s  ')%(data[2][0],data[2][1],data[2][2])\n",
    "\n",
    "#display()\n",
    "\n",
    "\n",
    "#getting user input and machine digit randomization\n",
    "import random\n",
    "options = ['x','o']\n",
    "\n",
    "\n",
    "for a in range(5):\n",
    "#machine random position and input\n",
    "    m_p1 = random.randrange(0,3)\n",
    "    m_p2 = random.randrange(0,3)\n",
    "    \n",
    "    input_position = input('Enter position : ')\n",
    "    user_option = raw_input('Enter x or o :')\n",
    "    if user_option == 'x':\n",
    "        m_option = 'o'\n",
    "    else:\n",
    "        m_option = 'x'\n",
    "    #cases\n",
    "   -\n",
    "    display()\n",
    "    \n",
    "    def status(user_option):\n",
    "        win=3\n",
    "        if [data[0][0],data[0][1],data[0][2]] == [user_option,user_option,user_option]:\n",
    "            \n",
    "            win=1\n",
    "        elif [data[1][0],data[1][1],data[1][2]] == [user_option,user_option,user_option]:\n",
    "            win=1\n",
    "        elif [data[2][0],data[2][1],data[2][2]] == [user_option,user_option,user_option]:\n",
    "            win=1\n",
    "        elif [data[0][0],data[1][0],data[2][0]] == [user_option,user_option,user_option]:\n",
    "            win=1\n",
    "        elif [data[0][1],data[1][1],data[2][1]] == [user_option,user_option,user_option]:\n",
    "            win=1\n",
    "        elif [data[0][2],data[1][2],data[2][2]] == [user_option,user_option,user_option]:\n",
    "            win=1\n",
    "        elif [data[0][0],data[1][1],data[2][2]] == [user_option,user_option,user_option]:\n",
    "            win=1\n",
    "        elif [data[0][2],data[1][1],data[2][0]] == [user_option,user_option,user_option]:\n",
    "            win=1\n",
    "        \n",
    "            \n",
    "        if win==1:\n",
    "            print(\"\\n*****  PLAYER WINS  *****\\n\")\n",
    "        elif win==0:\n",
    "            print(\"\\n*****  MACHINE WINS  *****\\n\")\n",
    "        else:\n",
    "            print(\"\\n**** DRAW ****\\n\")\n",
    "        \n",
    "    \n",
    "    \n",
    "    #user_option = ['x']\n",
    "    status(user_option)"
   ]
  },
  {
   "cell_type": "code",
   "execution_count": null,
   "metadata": {
    "collapsed": false
   },
   "outputs": [],
   "source": [
    ""
   ]
  },
  {
   "cell_type": "code",
   "execution_count": null,
   "metadata": {
    "collapsed": false
   },
   "outputs": [],
   "source": [
    ""
   ]
  },
  {
   "cell_type": "code",
   "execution_count": 11,
   "metadata": {
    "collapsed": false
   },
   "outputs": [
    {
     "name": "stdout",
     "output_type": "stream",
     "text": [
      "hello\n"
     ]
    },
    {
     "data": {
      "text/plain": [
       "True"
      ]
     },
     "execution_count": 11,
     "metadata": {},
     "output_type": "execute_result"
    }
   ],
   "source": [
    "a='hello'\n",
    "a\n",
    "def summa(anything):\n",
    "    var = anything\n",
    "    print var\n",
    "    return 'hello' == var\n",
    "summa(a)"
   ]
  },
  {
   "cell_type": "code",
   "execution_count": null,
   "metadata": {
    "collapsed": false
   },
   "outputs": [],
   "source": [
    ""
   ]
  },
  {
   "cell_type": "code",
   "execution_count": null,
   "metadata": {
    "collapsed": false
   },
   "outputs": [],
   "source": [
    ""
   ]
  },
  {
   "cell_type": "code",
   "execution_count": null,
   "metadata": {
    "collapsed": false
   },
   "outputs": [],
   "source": [
    ""
   ]
  },
  {
   "cell_type": "code",
   "execution_count": 22,
   "metadata": {
    "collapsed": false
   },
   "outputs": [
    {
     "data": {
      "text/plain": [
       "'\\n#cases\\n    if input_position == 1:\\n        data[0][0].append(user_option)\\n        if data[0][0] != data[m_p1][m_p2]:\\n            data[m_p1][m_p2].append(m_option)\\n        else:\\n            m_p1 = random.randrange(0,3)\\n            m_p2 = random.randrange(0,3)\\n            data[m_p1][m_p2].append(m_option)\\n    if input_position == 2:\\n        data[0][1].append(user_option)\\n        if data[0][1] != data[m_p1][m_p2]:\\n            data[m_p1][m_p2].append(m_option)\\n        else:\\n            m_p1 = random.randrange(0,3)\\n            m_p2 = random.randrange(0,3)\\n            data[m_p1][m_p2].append(m_option)\\n    if input_position == 3:\\n        data[0][2].append(user_option)\\n        if data[0][2] != data[m_p1][m_p2]:\\n            data[m_p1][m_p2].append(m_option)\\n        else:\\n            m_p1 = random.randrange(0,3)\\n            m_p2 = random.randrange(0,3)\\n            data[m_p1][m_p2].append(m_option)\\n    if input_position == 4:\\n        data[1][0].append(user_option)\\n        if data[1][0] != data[m_p1][m_p2]:\\n            data[m_p1][m_p2].append(m_option)\\n        else:\\n            m_p1 = random.randrange(0,3)\\n            m_p2 = random.randrange(0,3)\\n            data[m_p1][m_p2].append(m_option)\\n    if input_position == 5:\\n        data[1][1].append(user_option)\\n        if data[1][1] != data[m_p1][m_p2]:\\n            data[m_p1][m_p2].append(m_option)\\n        else:\\n            m_p1 = random.randrange(0,3)\\n            m_p2 = random.randrange(0,3)\\n            data[m_p1][m_p2].append(m_option)\\n    if input_position == 6:\\n        data[1][2].append(user_option)\\n        if data[1][2] != data[m_p1][m_p2]:\\n            data[m_p1][m_p2].append(m_option)\\n        else:\\n            m_p1 = random.randrange(0,3)\\n            m_p2 = random.randrange(0,3)\\n            data[m_p1][m_p2].append(m_option)\\n    if input_position == 7:\\n        data[2][0].append(user_option)\\n        if data[2][0] != data[m_p1][m_p2]:\\n            data[m_p1][m_p2].append(m_option)\\n        else:\\n            m_p1 = random.randrange(0,3)\\n            m_p2 = random.randrange(0,3)\\n            data[m_p1][m_p2].append(m_option)\\n    if input_position == 8:\\n        data[2][1].append(user_option)\\n        if data[2][1] != data[m_p1][m_p2]:\\n            data[m_p1][m_p2].append(m_option)\\n        else:\\n            m_p1 = random.randrange(0,3)\\n            m_p2 = random.randrange(0,3)\\n            data[m_p1][m_p2].append(m_option)\\n    if input_position == 9:\\n        data[2][2].append(user_option)\\n        if data[2][2] != data[m_p1][m_p2]:\\n            data[m_p1][m_p2].append(m_option)\\n        else:\\n            m_p1 = random.randrange(0,3)\\n            m_p2 = random.randrange(0,3)\\n            data[m_p1][m_p2].append(m_option)\\n    \\n\\n    display()\\n'"
      ]
     },
     "execution_count": 22,
     "metadata": {},
     "output_type": "execute_result"
    }
   ],
   "source": [
    "'''\n",
    "#cases\n",
    "    if input_position == 1:\n",
    "        data[0][0].append(user_option)\n",
    "        if data[0][0] != data[m_p1][m_p2]:\n",
    "            data[m_p1][m_p2].append(m_option)\n",
    "        else:\n",
    "            m_p1 = random.randrange(0,3)\n",
    "            m_p2 = random.randrange(0,3)\n",
    "            data[m_p1][m_p2].append(m_option)\n",
    "    if input_position == 2:\n",
    "        data[0][1].append(user_option)\n",
    "        if data[0][1] != data[m_p1][m_p2]:\n",
    "            data[m_p1][m_p2].append(m_option)\n",
    "        else:\n",
    "            m_p1 = random.randrange(0,3)\n",
    "            m_p2 = random.randrange(0,3)\n",
    "            data[m_p1][m_p2].append(m_option)\n",
    "    if input_position == 3:\n",
    "        data[0][2].append(user_option)\n",
    "        if data[0][2] != data[m_p1][m_p2]:\n",
    "            data[m_p1][m_p2].append(m_option)\n",
    "        else:\n",
    "            m_p1 = random.randrange(0,3)\n",
    "            m_p2 = random.randrange(0,3)\n",
    "            data[m_p1][m_p2].append(m_option)\n",
    "    if input_position == 4:\n",
    "        data[1][0].append(user_option)\n",
    "        if data[1][0] != data[m_p1][m_p2]:\n",
    "            data[m_p1][m_p2].append(m_option)\n",
    "        else:\n",
    "            m_p1 = random.randrange(0,3)\n",
    "            m_p2 = random.randrange(0,3)\n",
    "            data[m_p1][m_p2].append(m_option)\n",
    "    if input_position == 5:\n",
    "        data[1][1].append(user_option)\n",
    "        if data[1][1] != data[m_p1][m_p2]:\n",
    "            data[m_p1][m_p2].append(m_option)\n",
    "        else:\n",
    "            m_p1 = random.randrange(0,3)\n",
    "            m_p2 = random.randrange(0,3)\n",
    "            data[m_p1][m_p2].append(m_option)\n",
    "    if input_position == 6:\n",
    "        data[1][2].append(user_option)\n",
    "        if data[1][2] != data[m_p1][m_p2]:\n",
    "            data[m_p1][m_p2].append(m_option)\n",
    "        else:\n",
    "            m_p1 = random.randrange(0,3)\n",
    "            m_p2 = random.randrange(0,3)\n",
    "            data[m_p1][m_p2].append(m_option)\n",
    "    if input_position == 7:\n",
    "        data[2][0].append(user_option)\n",
    "        if data[2][0] != data[m_p1][m_p2]:\n",
    "            data[m_p1][m_p2].append(m_option)\n",
    "        else:\n",
    "            m_p1 = random.randrange(0,3)\n",
    "            m_p2 = random.randrange(0,3)\n",
    "            data[m_p1][m_p2].append(m_option)\n",
    "    if input_position == 8:\n",
    "        data[2][1].append(user_option)\n",
    "        if data[2][1] != data[m_p1][m_p2]:\n",
    "            data[m_p1][m_p2].append(m_option)\n",
    "        else:\n",
    "            m_p1 = random.randrange(0,3)\n",
    "            m_p2 = random.randrange(0,3)\n",
    "            data[m_p1][m_p2].append(m_option)\n",
    "    if input_position == 9:\n",
    "        data[2][2].append(user_option)\n",
    "        if data[2][2] != data[m_p1][m_p2]:\n",
    "            data[m_p1][m_p2].append(m_option)\n",
    "        else:\n",
    "            m_p1 = random.randrange(0,3)\n",
    "            m_p2 = random.randrange(0,3)\n",
    "            data[m_p1][m_p2].append(m_option)\n",
    "    \n",
    "\n",
    "    display()\n",
    "'''"
   ]
  },
  {
   "cell_type": "code",
   "execution_count": 9,
   "metadata": {
    "collapsed": false
   },
   "outputs": [
    {
     "name": "stdout",
     "output_type": "stream",
     "text": [
      "\n",
      "X O game by Codemanga\n",
      "\n",
      "[1] | [2] | [3]\n",
      "____|_____|____\n",
      "    |     |   \n",
      "[4] | [5] | [6]\n",
      "____|_____|____\n",
      "    |     |   \n",
      "[7] | [8] | [9]\n",
      "\n",
      "looking at the positions,give proper inputs :) \n",
      "\n",
      "Enter position : 5\n",
      "Enter x or o :x\n",
      " [] | ['o']  | [] \n",
      "_______|________|______\n",
      "       |        |    \n",
      " [] | ['x']  | [] \n",
      "_______|________|______\n",
      "       |        |    \n",
      " [] | []  | []  \n",
      "Enter position : 3\n",
      "Enter x or o :x\n",
      " [] | ['o']  | ['x'] \n",
      "_______|________|______\n",
      "       |        |    \n",
      " [] | ['x']  | [] \n",
      "_______|________|______\n",
      "       |        |    \n",
      " [] | []  | ['o']  \n",
      "Enter position : 1\n",
      "Enter x or o :x\n",
      " ['x'] | ['o']  | ['x'] \n",
      "_______|________|______\n",
      "       |        |    \n",
      " ['o'] | ['x']  | [] \n",
      "_______|________|______\n",
      "       |        |    \n",
      " [] | []  | ['o']  \n",
      "Enter position : 7\n",
      "Enter x or o :x\n",
      " ['x'] | ['o']  | ['x'] \n",
      "_______|________|______\n",
      "       |        |    \n",
      " ['o'] | ['x']  | [] \n",
      "_______|________|______\n",
      "       |        |    \n",
      " ['x'] | []  | ['o']  \n",
      "\n",
      "*****  PLAYER WINS  *****\n",
      "\n"
     ]
    },
    {
     "ename": "SystemExit",
     "evalue": "",
     "traceback": [
      "An exception has occurred, use %tb to see the full traceback.\n",
      "\u001b[1;31mSystemExit\u001b[0m\n"
     ],
     "output_type": "error"
    },
    {
     "name": "stderr",
     "output_type": "stream",
     "text": [
      "To exit: use 'exit', 'quit', or Ctrl-D.\n"
     ]
    }
   ],
   "source": [
    "print('\\nX O game by Codemanga\\n')\n",
    "print('[1] | [2] | [3]')\n",
    "print('____|_____|____')\n",
    "print('    |     |   ')\n",
    "print('[4] | [5] | [6]')\n",
    "print('____|_____|____')\n",
    "print('    |     |   ')\n",
    "print('[7] | [8] | [9]')\n",
    "print('\\nlooking at the positions,give proper inputs :) \\n')\n",
    "\n",
    "# creating a 3x3 list of all zeros\n",
    "list1=[],[],[]\n",
    "list2=[],[],[]\n",
    "list3=[],[],[]\n",
    "data=[list1,list2,list3]\n",
    "\n",
    "#arrangement of output with function\n",
    "def display():\n",
    "    print(' %s | %s  | %s ')%(data[0][0],data[0][1],data[0][2])\n",
    "    print('_______|________|______')\n",
    "    print('       |        |    ')\n",
    "    print(' %s | %s  | %s ')%(data[1][0],data[1][1],data[1][2])\n",
    "    print('_______|________|______')\n",
    "    print('       |        |    ')\n",
    "    print(' %s | %s  | %s  ')%(data[2][0],data[2][1],data[2][2])\n",
    "\n",
    "#display()\n",
    "\n",
    "\n",
    "#getting user input and machine digit randomization\n",
    "import random\n",
    "import sys\n",
    "options = ['x','o']\n",
    "l1 = [1,2,3,4,5,6,7,8,9]\n",
    "l2 = [data[0][0],data[0][1],data[0][2],data[1][0],data[1][1],data[1][2],data[2][0],data[2][1],data[2][2]]\n",
    "\n",
    "for a in range(5):\n",
    "#machine random position and input\n",
    "    #m_p1 = random.randrange(0,9)\n",
    "    #m_p2 = random.randrange(0,9)\n",
    "    \n",
    "    user_position = input('Enter position : ')\n",
    "    user_option = raw_input('Enter x or o :')\n",
    "    if user_option == 'x':\n",
    "        m_option = 'o'\n",
    "    else:\n",
    "        m_option = 'x'\n",
    "    \n",
    "    #cases\n",
    "    if user_position != None:\n",
    "        l2[user_position-1].append(user_option)\n",
    "        \n",
    "        #data[2][2].append(user_option)\n",
    "        m_p1 = random.randrange(0,9)\n",
    "        #m_p2 = random.randrange(0,9)\n",
    "        if len(l2[m_p1]) == 0:\n",
    "            l2[m_p1].append(m_option)\n",
    "        else:\n",
    "            m_p1 = random.randrange(0,9)\n",
    "            #m_p2 = random.randrange(0,3)\n",
    "            if len(l2[m_p1]) == 0:\n",
    "                l2[m_p1].append(m_option)\n",
    "\n",
    "\n",
    "    display()\n",
    "    win=3\n",
    "    def status(user_option):\n",
    "        \n",
    "        if [l2[0],l2[1],l2[2]] == [user_option,user_option,user_option]:\n",
    "            win=1\n",
    "        elif [l2[3],l2[4],l2[5]] == [user_option,user_option,user_option]:\n",
    "            win=1\n",
    "        elif [l2[6],l2[7],l2[8]] == [user_option,user_option,user_option]:\n",
    "            win=1\n",
    "        elif [l2[0],l2[3],l2[6]] == [user_option,user_option,user_option]:\n",
    "            win=1\n",
    "        elif [l2[1],l2[4],l2[7]] == [user_option,user_option,user_option]:\n",
    "            win=1\n",
    "        elif [l2[2],l2[5],l2[8]] == [user_option,user_option,user_option]:\n",
    "            win=1\n",
    "        elif [l2[0],l2[4],l2[8]] == [user_option,user_option,user_option]:\n",
    "            win=1\n",
    "        elif [l2[2],l2[4],l2[6]] == [user_option,user_option,user_option]:\n",
    "            win=1\n",
    "        else:\n",
    "            win=0\n",
    "        \n",
    "\n",
    "        if win==1:\n",
    "            print(\"\\n*****  PLAYER WINS  *****\\n\")\n",
    "        elif win==0:\n",
    "            print(\"\\n*****  DRAW for now  *****\\n\")\n",
    "        if (win==1)==False and (win==0)==False:\n",
    "            print(\"\\n*****  MACHINE WINS  *****\\n\")\n",
    "        \n",
    "        if win==1:\n",
    "            sys.exit()\n",
    "        \n",
    "    \n",
    "    \n",
    "    if a==3:\n",
    "        status([user_option])"
   ]
  }
 ],
 "metadata": {
  "kernelspec": {
   "display_name": "Python 2",
   "language": "python",
   "name": "python2"
  },
  "language_info": {
   "codemirror_mode": {
    "name": "ipython",
    "version": 2.0
   },
   "file_extension": ".py",
   "mimetype": "text/x-python",
   "name": "python",
   "nbconvert_exporter": "python",
   "pygments_lexer": "ipython2",
   "version": "2.7.11"
  }
 },
 "nbformat": 4,
 "nbformat_minor": 0
}